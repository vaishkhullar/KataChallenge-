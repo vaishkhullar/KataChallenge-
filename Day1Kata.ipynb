{
 "cells": [
  {
   "cell_type": "markdown",
   "metadata": {},
   "source": [
    "# CodeWars - Which are in?"
   ]
  },
  {
   "cell_type": "markdown",
   "metadata": {},
   "source": [
    "## Day 1 "
   ]
  },
  {
   "cell_type": "markdown",
   "metadata": {},
   "source": [
    "##### vaishnavikhullar.com"
   ]
  },
  {
   "cell_type": "markdown",
   "metadata": {},
   "source": [
    "##### Start time: 20:41\n",
    "##### Finish time: 21:07"
   ]
  },
  {
   "cell_type": "markdown",
   "metadata": {},
   "source": [
    "### The Challenge: \n",
    "\n",
    "Given two arrays of strings a1 and a2 return a sorted array r in lexicographical order of the strings of a1 which are substrings of strings of a2.\n",
    "\n",
    "##### Example 1: a1 = [\"arp\", \"live\", \"strong\"]\n",
    "\n",
    "a2 = [\"lively\", \"alive\", \"harp\", \"sharp\", \"armstrong\"]\n",
    "\n",
    "returns [\"arp\", \"live\", \"strong\"]\n",
    "\n",
    "##### Example 2: a1 = [\"tarp\", \"mice\", \"bull\"]\n",
    "\n",
    "a2 = [\"lively\", \"alive\", \"harp\", \"sharp\", \"armstrong\"]\n",
    "\n",
    "returns []\n",
    "\n",
    "### Decoding The Challenge\n",
    "\n",
    "For those of us who don't know what lexicographical order means and the above example is insufficient (dw, I didn't get it either). This is when words are ordered by the alphabetical component of their letters. \n",
    "\n",
    "An example of lexicographical order: \n",
    "\n",
    "Let's compare the 2 words: Boo and Book. The first 3 letters of both words are the same. However, the 4th letter of Book makes it longer than the Boo. \n",
    "\n",
    "Another example of lexicographical order: \n",
    "\n",
    "Microwave and Microscopic, in both words the first 5 letters are equivalent. However, the 6th letter, 's', in microscopic comes before 'w' in the alphabet. Therefore, the lexicographical order of the 2 words is microscopic then microwave. \n",
    "\n"
   ]
  },
  {
   "cell_type": "markdown",
   "metadata": {},
   "source": [
    "### Firstly, breakdown the problem into chunks :)\n",
    "\n",
    "1. I don't know if there's an inbuilt function to define lexicological order therefore, we will need to build one if sorting doesn't work \n",
    "2. The function needs to take in an array (a1) and compare it to another array (a2). \n",
    "3. If any of the values of the first array (a1) are in the array 2 (a2) we need to make a new list (a3).\n",
    "4. We then need to return this array in lexicological order.\n"
   ]
  },
  {
   "cell_type": "code",
   "execution_count": 39,
   "metadata": {},
   "outputs": [],
   "source": [
    "a1 = [ 'cheese', 'arp', 'choc', 'ive']\n",
    "a2 = ['lively', 'map', 'chive', 'harp', 'chocolate']\n",
    "\n",
    "\n",
    "def lexicologicalOrder(a1,a2):\n",
    "    a3 = []\n",
    "    for i in a1: \n",
    "        for j in a2:\n",
    "            if i in j:\n",
    "                a3.append(i)\n",
    "            else:\n",
    "                pass      \n",
    "    a3 = set(a3)\n",
    "    a3 = sorted(a3, key=str.lower)\n",
    "    return (a3)\n"
   ]
  },
  {
   "cell_type": "code",
   "execution_count": 28,
   "metadata": {},
   "outputs": [],
   "source": [
    "lexicologicalOrder(a1,a2)\n",
    "\n",
    "#It works! :) \n",
    "    \n",
    "    "
   ]
  },
  {
   "cell_type": "markdown",
   "metadata": {},
   "source": [
    "### Further reading/ info\n",
    "\n",
    "##### Understand the sorted() function and why it works:\n",
    "\n",
    "https://stackoverflow.com/questions/1517347/about-pythons-built-in-sort-method\n"
   ]
  }
 ],
 "metadata": {
  "kernelspec": {
   "display_name": "Python 3",
   "language": "python",
   "name": "python3"
  },
  "language_info": {
   "codemirror_mode": {
    "name": "ipython",
    "version": 3
   },
   "file_extension": ".py",
   "mimetype": "text/x-python",
   "name": "python",
   "nbconvert_exporter": "python",
   "pygments_lexer": "ipython3",
   "version": "3.7.3"
  }
 },
 "nbformat": 4,
 "nbformat_minor": 2
}
