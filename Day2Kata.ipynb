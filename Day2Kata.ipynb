{
 "cells": [
  {
   "cell_type": "markdown",
   "metadata": {},
   "source": [
    "# Codewars - Delete occurrences of an element if it occurs more than n times"
   ]
  },
  {
   "cell_type": "markdown",
   "metadata": {},
   "source": [
    "## Day 2 "
   ]
  },
  {
   "cell_type": "markdown",
   "metadata": {},
   "source": [
    "##### vaishnavikhullar.com"
   ]
  },
  {
   "cell_type": "markdown",
   "metadata": {},
   "source": [
    "##### Start time: 22:06"
   ]
  },
  {
   "cell_type": "markdown",
   "metadata": {},
   "source": [
    "##### End time: 23:18"
   ]
  },
  {
   "cell_type": "markdown",
   "metadata": {},
   "source": [
    "#### The Challenge: \n",
    "\n",
    "Enough is enough!\n",
    "Alice and Bob were on a holiday. Both of them took many pictures of the places they've been, and now they want to show Charlie their entire collection. However, Charlie doesn't like this sessions, since the motive usually repeats. He isn't fond of seeing the Eiffel tower 40 times. He tells them that he will only sit during the session if they show the same motive at most N times. Luckily, Alice and Bob are able to encode the motive as a number. Can you help them to remove numbers such that their list contains each number only up to N times, without changing the order?\n",
    "\n",
    "Task\n",
    "Given a list lst and a number N, create a new list that contains each number of lst at most N times without reordering. For example if N = 2, and the input is [1,2,3,1,2,1,2,3], you take [1,2,3,1,2], drop the next [1,2] since this would lead to 1 and 2 being in the result 3 times, and then take 3, which leads to [1,2,3,1,2,3].\n",
    "\n",
    "##### Example 1: \n",
    "\n",
    "delete_nth ([1,1,1,1],2) # return [1,1]\n",
    "\n",
    "##### Example 2: \n",
    "\n",
    "delete_nth ([20,37,20,21],1) # return [20,37,21]\n",
    "\n",
    "#### Decoding The Challenge:\n",
    "\n",
    "Similar to Alice and Bob I take A LOT of photos on holiday! They have an annoying friend who won't go through all the images, therefore, if Charlie says the max number of times he wants to see any given 'thing' is 2, then the max number of times he can be shown it is 2. Sounds a lil' temperamental...\n",
    "\n",
    "\n",
    "#### Firstly, breaking the problem into chunks\n",
    "\n",
    "1. Create a function that takes in 2 pieces of data. The first is a list of values (lst) and the second a number (N) . \n",
    "2. For each value in the list, determine the number of times it appears\n",
    "3. If the the value in lst appears less than or equal to the value of N then append to a new list (finalList). \n",
    "4. If the value in lst appears more than or equal to the value of N then append the value to finalList upto a maximum of N times.\n"
   ]
  },
  {
   "cell_type": "code",
   "execution_count": null,
   "metadata": {},
   "outputs": [],
   "source": [
    "\n",
    "def delete_nth(lst, N):\n",
    "    #if len(set(lst)) != len(lst):\n",
    "    finalList = []\n",
    "    for i in lst:\n",
    "        #count is less than N\n",
    "        if lst.count(i) <= N:\n",
    "            finalList.append(i)\n",
    "        elif lst.count(i) > N:\n",
    "            if i not in finalList:\n",
    "                finalList.append(i)\n",
    "            elif i in finalList and finalList.count(i) <= (N-1):\n",
    "                finalList.append(i)\n",
    "            else:\n",
    "                pass\n",
    "       \n",
    "    return finalList\n",
    "            \n",
    "            \n",
    "            \n",
    "       \n",
    "        \n",
    "           \n",
    "                "
   ]
  },
  {
   "cell_type": "code",
   "execution_count": 157,
   "metadata": {},
   "outputs": [
    {
     "data": {
      "text/plain": [
       "[20, 35, 37]"
      ]
     },
     "execution_count": 157,
     "metadata": {},
     "output_type": "execute_result"
    }
   ],
   "source": [
    "lst = [20,35,37,20,20,37]\n",
    "\n",
    "\n",
    "delete_nth(lst, 1)\n"
   ]
  },
  {
   "cell_type": "markdown",
   "metadata": {},
   "source": [
    "Note to self: when comparing values in a pre-appended list, do len -1 ...! Took me ages to debug this in my code... >:("
   ]
  }
 ],
 "metadata": {
  "kernelspec": {
   "display_name": "Python 3",
   "language": "python",
   "name": "python3"
  },
  "language_info": {
   "codemirror_mode": {
    "name": "ipython",
    "version": 3
   },
   "file_extension": ".py",
   "mimetype": "text/x-python",
   "name": "python",
   "nbconvert_exporter": "python",
   "pygments_lexer": "ipython3",
   "version": "3.7.3"
  }
 },
 "nbformat": 4,
 "nbformat_minor": 2
}
