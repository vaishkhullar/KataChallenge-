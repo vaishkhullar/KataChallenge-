{
 "cells": [
  {
   "cell_type": "markdown",
   "metadata": {},
   "source": [
    "# Codewars - Roman Numeral Encoder\n",
    "\n"
   ]
  },
  {
   "cell_type": "markdown",
   "metadata": {},
   "source": [
    "#### Day 3"
   ]
  },
  {
   "cell_type": "markdown",
   "metadata": {},
   "source": [
    "#### vaishnavikhullar.com"
   ]
  },
  {
   "cell_type": "markdown",
   "metadata": {},
   "source": [
    "##### Start time: 22:25"
   ]
  },
  {
   "cell_type": "markdown",
   "metadata": {},
   "source": [
    "##### End time: 23:00"
   ]
  },
  {
   "cell_type": "markdown",
   "metadata": {},
   "source": [
    "### The Challenge: \n",
    "\n",
    "Create a function taking a positive integer as its parameter and returning a string containing the Roman Numeral representation of that integer.\n",
    "\n",
    "Modern Roman numerals are written by expressing each digit separately starting with the left most digit and skipping any digit with a value of zero. In Roman numerals 1990 is rendered: 1000=M, 900=CM, 90=XC; resulting in MCMXC. 2008 is written as 2000=MM, 8=VIII; or MMVIII. 1666 uses each Roman symbol in descending order: MDCLXVI.\n",
    "\n",
    "N.b.\n",
    "\n",
    "Symbol    Value\n",
    "I          1\n",
    "V          5\n",
    "X          10\n",
    "L          50\n",
    "C          100\n",
    "D          500\n",
    "M          1,000\n",
    "\n",
    "\n",
    "##### Example 1:\n",
    "\n",
    "solution(1000) # should return 'M'\n"
   ]
  },
  {
   "cell_type": "markdown",
   "metadata": {},
   "source": [
    "### Decoding the problem:\n",
    "\n",
    "Figuring out roman numerals has never been my strong point. So I sometimes struggle to do this as a human, let alone as a computer. The way I'm thinking of breaking this down is as follows:\n",
    "\n",
    "1. Find the length of numbers in an value, if it's 4 then the first value represents a 1000. Current thinking is create a dictionary that if the length = 4 then times the first value by 4. \n",
    "2. Determine the value of the first value (starting with the lhs)\n",
    "3. Go through a dictionary, find the value. The key in the dictionary is the \"Value\" and value is the symbol.\n",
    "4. In the event it's not in the dictionary, break it down into multiples and then query the value \n",
    "5. If the value is a zero then skip that number\n",
    "\n",
    "\n",
    "\n"
   ]
  },
  {
   "cell_type": "code",
   "execution_count": 47,
   "metadata": {},
   "outputs": [],
   "source": [
    "def solution(n):\n",
    "    RN = {1:'I',2:'II', 3:'III', 4:'IV',5:'V', 6:'VI', 7:'VII', 8:'VIII', 9:\"IX\", 10:'X', 20: 'XX'\n",
    "          , 30: 'XXX', 40: 'XL', 50:'L', 60:'LX', 70:'LXX', 80:'LXXX', 90:'XC', 100:'C', 200:'CC', 300:'CCC',\n",
    "          400:'CD', 500:'D', 600:'DC', 700:'DCC', 800:'DCCC', 900:'CM', 1000:'M', 2000:'MM', 3000:'MMM'}\n",
    "    lengthOfn = len(str(n))\n",
    "    valueinRN = ''\n",
    "    for i,j in enumerate(str(n)):\n",
    "        if j == '0':\n",
    "            pass\n",
    "        elif j != '0':\n",
    "            power = (lengthOfn-i-1)\n",
    "            num = int(j)*(10**power)\n",
    "            for key,value in RN.items():\n",
    "                if key == num:\n",
    "                    valueinRN += value\n",
    "                else:\n",
    "                    pass\n",
    "                    \n",
    "    print(valueinRN)\n",
    "            \n",
    "        "
   ]
  },
  {
   "cell_type": "code",
   "execution_count": 49,
   "metadata": {},
   "outputs": [
    {
     "name": "stdout",
     "output_type": "stream",
     "text": [
      "CMLXXXIV\n"
     ]
    }
   ],
   "source": [
    "#Interesting solution \n",
    "\n",
    "def solution(n):\n",
    "    roman_numerals = {1000:'M',\n",
    "                      900: 'CM',\n",
    "                      500: 'D',\n",
    "                      400: 'CD',\n",
    "                      100: 'C',\n",
    "                      90: 'XC',\n",
    "                      50: 'L',\n",
    "                      40: 'XL',\n",
    "                      10: 'X',\n",
    "                      9: 'IX',\n",
    "                      5: 'V',\n",
    "                      4: 'IV',\n",
    "                      1: 'I'\n",
    "    }\n",
    "    roman_string = ''\n",
    "    for key in sorted(roman_numerals.keys(),reverse=True):\n",
    "        while n >= key:\n",
    "            roman_string += roman_numerals[key]\n",
    "            n -= key\n",
    "    return roman_string"
   ]
  },
  {
   "cell_type": "code",
   "execution_count": null,
   "metadata": {},
   "outputs": [],
   "source": [
    "#Interesting solution \n",
    "\n",
    "vals = zip(('M', 'CM', 'D', 'CD', 'C', 'XC', 'L', 'XL', 'X', 'IX', 'V', 'IV', 'I'),\n",
    "           (1000, 900, 500,  400, 100,   90,  50,   40,  10,    9,   5,    4,   1))\n",
    "\n",
    "def solution(n):\n",
    "    if n == 0: return \"\"\n",
    "    return next(c + solution(n-v) for c,v in vals if v <= n)"
   ]
  },
  {
   "cell_type": "code",
   "execution_count": null,
   "metadata": {},
   "outputs": [],
   "source": [
    "#Clever solution \n",
    "\n",
    "units = \" I II III IV V VI VII VIII IX\".split(\" \")\n",
    "tens = \" X XX XXX XL L LX LXX LXXX XC\".split(\" \")\n",
    "hundreds = \" C CC CCC CD D DC DCC DCCC CM\".split(\" \")\n",
    "thousands = \" M MM MMM\".split(\" \")\n",
    "\n",
    "def solution(n):\n",
    "    return thousands[n//1000] + hundreds[n%1000//100] + tens[n%100//10] + units[n%10]\n"
   ]
  }
 ],
 "metadata": {
  "kernelspec": {
   "display_name": "Python 3",
   "language": "python",
   "name": "python3"
  },
  "language_info": {
   "codemirror_mode": {
    "name": "ipython",
    "version": 3
   },
   "file_extension": ".py",
   "mimetype": "text/x-python",
   "name": "python",
   "nbconvert_exporter": "python",
   "pygments_lexer": "ipython3",
   "version": "3.7.3"
  }
 },
 "nbformat": 4,
 "nbformat_minor": 2
}
