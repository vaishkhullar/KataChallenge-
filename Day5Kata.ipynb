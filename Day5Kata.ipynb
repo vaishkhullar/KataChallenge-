{
 "cells": [
  {
   "cell_type": "markdown",
   "metadata": {},
   "source": [
    "# Codewars: Pick peaks "
   ]
  },
  {
   "cell_type": "markdown",
   "metadata": {},
   "source": [
    "### Day 5"
   ]
  },
  {
   "cell_type": "markdown",
   "metadata": {},
   "source": [
    "##### vaishnavikhullar.com"
   ]
  },
  {
   "cell_type": "markdown",
   "metadata": {},
   "source": [
    "##### start time: 14:04"
   ]
  },
  {
   "cell_type": "markdown",
   "metadata": {},
   "source": [
    "##### end time: defeated :("
   ]
  },
  {
   "cell_type": "markdown",
   "metadata": {},
   "source": [
    "#### The challenge:\n",
    "\n",
    "In this kata, you will write a function that returns the positions and the values of the \"peaks\" (or local maxima) of a numeric array.\n",
    "\n",
    "For example, the array arr = [0, 1, 2, 5, 1, 0] has a peak at position 3 with a value of 5 (since arr[3] equals 5).\n",
    "\n",
    "The output will be returned as an object with two properties: pos and peaks. Both of these properties should be arrays. If there is no peak in the given array, then the output should be {pos: [], peaks: []}.\n",
    "\n",
    "\n",
    "\n",
    "##### Example 1: \n",
    "\n",
    "pickPeaks([3, 2, 3, 6, 4, 1, 2, 3, 2, 1, 2, 3]) should return {pos: [3, 7], peaks: [6, 3]} (or equivalent in other languages)\n",
    "\n",
    "All input arrays will be valid integer arrays (although it could still be empty), so you won't need to validate the input.\n",
    "\n",
    "The first and last elements of the array will not be considered as peaks (in the context of a mathematical function, we don't know what is after and before and therefore, we don't know if it is a peak or not).\n",
    "\n",
    "Also, beware of plateaus !!! [1, 2, 2, 2, 1] has a peak while [1, 2, 2, 2, 3] does not. In case of a plateau-peak, please only return the position and value of the beginning of the plateau. For example: pickPeaks([1, 2, 2, 2, 1]) returns {pos: [1], peaks: [2]} (or equivalent in other languages)\n",
    "\n",
    "Have fun!"
   ]
  },
  {
   "cell_type": "markdown",
   "metadata": {},
   "source": [
    "##### Understanding the problem\n",
    "\n",
    "I don't know if it's me, or my weekend brain but I can't seem to get my head around this challenge. So let's try and break it down. \n",
    "\n",
    "In this challenge we take in an array of numbers, in a normal array we will have a peak. In this we need to return the peak position as an array and the value as an array.  \n",
    "\n",
    "In the event that an array has a plateau peak (think a flat hill), i.e. [1, 2, 2, 2, 1] - there is still a peak which starts at position 1, and it's of 2\n",
    "\n",
    "If there are 2 peaks in array, lets say [1,2,3,2,1,4,4,1]. This therefore, means that the first peak starts at [2,5] and the values of those are [3,4].\n"
   ]
  },
  {
   "cell_type": "markdown",
   "metadata": {},
   "source": [
    "##### Breaking the problem down into chunks :)\n",
    "\n",
    "1. Create a function that takes in an array\n",
    "2. Iterate through each value in the array - for example: [1,2,3,2,3,1]. The 0th value = 1, 1st = 2, 3rd = 3 and so on... \n",
    "3. Find the maximum value of an array \n",
    "4. Find the second value of an array \n",
    "5. ... today I just couldn't seem to crack this codewars\n",
    "\n",
    "\n",
    "\n"
   ]
  },
  {
   "cell_type": "code",
   "execution_count": 85,
   "metadata": {},
   "outputs": [],
   "source": [
    "##### my attempt(s)\n",
    "def pick_peaks(arr):\n",
    "    first_val = []\n",
    "    index_val = []\n",
    "    length = len(arr)-1\n",
    "    for i,j in enumerate(arr):\n",
    "        if arr[i+1]>arr[i]:\n",
    "            pass\n",
    "        else: \n",
    "            \n",
    "         #   print(j)\n",
    "    #for i,j in enumerate(arr):\n",
    "         #   if j > first_val and i < length:\n",
    "          #      first_val = j\n",
    "           #     index_val = i\n",
    "            #else: \n",
    "             #   pass     \n",
    "    #return(first_val, index_val)\n",
    "\n",
    "\n",
    "\n",
    "    \n",
    "        \n",
    "    "
   ]
  },
  {
   "cell_type": "code",
   "execution_count": 92,
   "metadata": {},
   "outputs": [],
   "source": [
    "####neat solutions\n",
    "\n",
    "##### solution 1\n",
    "def pick_peaks(arr):\n",
    "    pos = []\n",
    "    prob_peak = False\n",
    "    #goes through numbers 1 - the length of the array\n",
    "    for i in range(1, len(arr)):\n",
    "        #if the ith value is greater than the i-1 value\n",
    "        if arr[i] > arr[i-1]:\n",
    "            #this converts prob_peak to equal the value of i\n",
    "            prob_peak = i\n",
    "        #if ith value is less than i-1 and prob_peak = False\n",
    "        elif arr[i] < arr[i-1] and prob_peak:\n",
    "            pos.append(prob_peak)\n",
    "            prob_peak = False\n",
    "    #return {'pos':pos, 'peaks':[arr[i] for i in pos]}\n",
    "\n",
    "\n",
    "###### solution 2\n",
    "def pick_peaks_2(arr):\n",
    "    peak, pos = [], []\n",
    "    res = { \"peaks\":[], \"pos\":[] }\n",
    "    \n",
    "    for i in range(1, len(arr)) :\n",
    "        if arr[i]>arr[i-1] :\n",
    "            peak, pos = [arr[i]], [i]\n",
    "        \n",
    "        elif arr[i]<arr[i-1] :\n",
    "            res[\"peaks\"] += peak\n",
    "            res[\"pos\"] += pos\n",
    "            peak, pos = [], []\n",
    "    \n",
    "    return res"
   ]
  },
  {
   "cell_type": "code",
   "execution_count": 93,
   "metadata": {},
   "outputs": [
    {
     "name": "stdout",
     "output_type": "stream",
     "text": [
      "2\n"
     ]
    }
   ],
   "source": [
    "pick_peaks([1,2,4,3,4])\n"
   ]
  }
 ],
 "metadata": {
  "kernelspec": {
   "display_name": "Python 3",
   "language": "python",
   "name": "python3"
  },
  "language_info": {
   "codemirror_mode": {
    "name": "ipython",
    "version": 3
   },
   "file_extension": ".py",
   "mimetype": "text/x-python",
   "name": "python",
   "nbconvert_exporter": "python",
   "pygments_lexer": "ipython3",
   "version": "3.7.3"
  }
 },
 "nbformat": 4,
 "nbformat_minor": 2
}
