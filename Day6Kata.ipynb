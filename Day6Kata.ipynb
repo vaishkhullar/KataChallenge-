{
 "cells": [
  {
   "cell_type": "markdown",
   "metadata": {},
   "source": [
    "# Codewars - Human Readable Time"
   ]
  },
  {
   "cell_type": "markdown",
   "metadata": {},
   "source": [
    "### Day 6"
   ]
  },
  {
   "cell_type": "markdown",
   "metadata": {},
   "source": [
    "##### vaishnavikhullar.com"
   ]
  },
  {
   "cell_type": "markdown",
   "metadata": {},
   "source": [
    "##### Start time: 23:28"
   ]
  },
  {
   "cell_type": "markdown",
   "metadata": {},
   "source": [
    "##### End time: 00:10"
   ]
  },
  {
   "cell_type": "markdown",
   "metadata": {},
   "source": [
    "#### The challenge:\n",
    "\n",
    "Write a function, which takes a non-negative integer (seconds) as input and returns the time in a human-readable format (HH:MM:SS)\n",
    "\n",
    "HH = hours, padded to 2 digits, range: 00 - 99\n",
    "MM = minutes, padded to 2 digits, range: 00 - 59\n",
    "SS = seconds, padded to 2 digits, range: 00 - 59\n",
    "The maximum time never exceeds 359999 (99:59:59)\n",
    "\n",
    "You can find some examples in the test fixtures.\n",
    "\n",
    "##### Examples:\n",
    "Test.assert_equals(make_readable(86399), \"23:59:59\")\n"
   ]
  },
  {
   "cell_type": "markdown",
   "metadata": {},
   "source": [
    "##### Breaking the problem down into chunks :)\n",
    "\n",
    "So the way I am approaching this problem is firstly create a function that takes in a number. \n",
    "\n",
    "- There are 60 seconds in a minute, 60 minutes in an hour and 24 hours in a day\n",
    "\n",
    "1. Take value, if the value/ 60 is less than 1, then it's a seconds value\n",
    "2. If value/60 is greater than 1 then it's a minutes value \n",
    "3. If value/3600 is greater than 1 then it's an hours value \n",
    "4. Start with hours, then mins then secs. All along minusing the value of the new total from the sum. "
   ]
  },
  {
   "cell_type": "code",
   "execution_count": 81,
   "metadata": {},
   "outputs": [],
   "source": [
    "def make_readable(val):\n",
    "    val = val\n",
    "    hours = 0\n",
    "    mins = 0\n",
    "    secs = 0\n",
    "    while val >= 60:\n",
    "        if val/3600 >= 1:\n",
    "            hours = int(val/3600)\n",
    "            val -= (hours*3600)\n",
    "            #print(val, hours)\n",
    "        elif val/60 >= 1:\n",
    "            mins = int(val/60)\n",
    "            val -= (mins*60)\n",
    "            print(val, mins)\n",
    "    if val <60:\n",
    "        secs = val\n",
    "    \n",
    "    \n",
    "    return(str(hours).zfill(2)+\":\"+str(mins).zfill(2)+\":\"+str(secs).zfill(2))"
   ]
  },
  {
   "cell_type": "code",
   "execution_count": 82,
   "metadata": {},
   "outputs": [
    {
     "name": "stdout",
     "output_type": "stream",
     "text": [
      "0 1\n"
     ]
    },
    {
     "data": {
      "text/plain": [
       "'00:01:00'"
      ]
     },
     "execution_count": 82,
     "metadata": {},
     "output_type": "execute_result"
    }
   ],
   "source": [
    "make_readable(60) "
   ]
  },
  {
   "cell_type": "code",
   "execution_count": 77,
   "metadata": {},
   "outputs": [
    {
     "data": {
      "text/plain": [
       "1"
      ]
     },
     "execution_count": 77,
     "metadata": {},
     "output_type": "execute_result"
    }
   ],
   "source": [
    "#Clever code\n",
    "def make_readable(s):\n",
    "    return '{:02}:{:02}:{:02}'.format(s / 3600, s / 60 % 60, s % 60)"
   ]
  }
 ],
 "metadata": {
  "kernelspec": {
   "display_name": "Python 3",
   "language": "python",
   "name": "python3"
  },
  "language_info": {
   "codemirror_mode": {
    "name": "ipython",
    "version": 3
   },
   "file_extension": ".py",
   "mimetype": "text/x-python",
   "name": "python",
   "nbconvert_exporter": "python",
   "pygments_lexer": "ipython3",
   "version": "3.7.3"
  }
 },
 "nbformat": 4,
 "nbformat_minor": 2
}
