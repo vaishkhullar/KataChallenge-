{
 "cells": [
  {
   "cell_type": "markdown",
   "metadata": {},
   "source": [
    "# Codewars - PaginationHelper"
   ]
  },
  {
   "cell_type": "markdown",
   "metadata": {},
   "source": [
    "### Day 9"
   ]
  },
  {
   "cell_type": "markdown",
   "metadata": {},
   "source": [
    "##### vaishnavikhullar.com"
   ]
  },
  {
   "cell_type": "markdown",
   "metadata": {},
   "source": [
    "##### Start time: 23:35"
   ]
  },
  {
   "cell_type": "markdown",
   "metadata": {},
   "source": [
    "##### End time: NA "
   ]
  },
  {
   "cell_type": "markdown",
   "metadata": {},
   "source": [
    "### The Challenge \n",
    "\n",
    "For this exercise you will be strengthening your page-fu mastery. You will complete the PaginationHelper class, which is a utility class helpful for querying paging information related to an array.\n",
    "\n",
    "The class is designed to take in an array of values and an integer indicating how many items will be allowed per each page. The types of values contained within the collection/array are not relevant.\n",
    "\n",
    "The following are some examples of how this class is used:"
   ]
  },
  {
   "cell_type": "markdown",
   "metadata": {},
   "source": [
    "### Examples\n",
    "\n",
    "helper = PaginationHelper(['a','b','c','d','e','f'], 4)\n",
    "helper.page_count # should == 2\n",
    "helper.item_count # should == 6\n",
    "helper.page_item_count(0)  # should == 4\n",
    "helper.page_item_count(1) # last page - should == 2\n",
    "helper.page_item_count(2) # should == -1 since the page is invalid\n",
    "\n",
    "##### page_ndex takes an item index and returns the page that it belongs on\n",
    "helper.page_index(5) # should == 1 (zero based index)\n",
    "helper.page_index(2) # should == 0\n",
    "helper.page_index(20) # should == -1\n",
    "helper.page_index(-10) # should == -1 because negative indexes are invalid"
   ]
  },
  {
   "cell_type": "markdown",
   "metadata": {},
   "source": [
    "### Breaking the problem down into chunks :)\n",
    "\n",
    "The aim of this function is to create a class which allows you to create a view of all the different methods. \n",
    "\n",
    "1. The first aim is to create an innit function which takes in the collection, items per page\n",
    "2. Create a method, for measuring the length of a collection\n",
    "3. Create a method for getting the length of the collection and then getting the remainder (using the mod function)\n",
    "4. Page index returns the index for the page for the item "
   ]
  },
  {
   "cell_type": "code",
   "execution_count": 53,
   "metadata": {},
   "outputs": [],
   "source": [
    "# TODO: complete this class\n",
    "\n",
    "class PaginationHelper:\n",
    "\n",
    "  # The constructor takes in an array of items and a integer indicating\n",
    "  # how many items fit within a single page\n",
    "  def __init__(self, collection, items_per_page):\n",
    "        self.collection = collection\n",
    "        self.lengthCollection = len(collection)\n",
    "        self.items_per_page = items_per_page      \n",
    "  # returns the number of items within the entire collection\n",
    "  def item_count(self):\n",
    "      return(len(self.collection))\n",
    "  # returns the number of pages\n",
    "  def page_count(self):\n",
    "    if len(self.collection) % self.items_per_page == 0:\n",
    "      return len(self.collection) / self.items_per_page\n",
    "    else:\n",
    "      return len(self.collection) / self.items_per_page + 1\n",
    "  # returns the number of items on the current page. page_index is zero based\n",
    "  # this method should return -1 for page_index values that are out of range\n",
    "  def page_item_count(self,page_index):\n",
    "    if page_index >= self.page_count():\n",
    "      return -1\n",
    "    elif page_index == self.page_count() - 1:\n",
    "      return len(self.collection) % self.items_per_page or self.items_per_page\n",
    "    else:\n",
    "      return self.items_per_page\n",
    "    # determines what page an item is on. Zero based indexes.\n",
    "  # this method should return -1 for item_index values that are out of range\n",
    "    def page_index(self,item_index):\n",
    "        if item_index >= len(self.collection) or item_index < 0:\n",
    "          return -1\n",
    "        else:\n",
    "          return item_index / self.items_per_page\n"
   ]
  },
  {
   "cell_type": "code",
   "execution_count": null,
   "metadata": {},
   "outputs": [],
   "source": []
  },
  {
   "cell_type": "code",
   "execution_count": 52,
   "metadata": {},
   "outputs": [
    {
     "data": {
      "text/plain": [
       "2"
      ]
     },
     "execution_count": 52,
     "metadata": {},
     "output_type": "execute_result"
    }
   ],
   "source": [
    "value = PaginationHelper([1,2,3,4,45,5,4],2)\n",
    "value.page_item_count(1)"
   ]
  },
  {
   "cell_type": "code",
   "execution_count": null,
   "metadata": {},
   "outputs": [],
   "source": []
  }
 ],
 "metadata": {
  "kernelspec": {
   "display_name": "Python 3",
   "language": "python",
   "name": "python3"
  },
  "language_info": {
   "codemirror_mode": {
    "name": "ipython",
    "version": 3
   },
   "file_extension": ".py",
   "mimetype": "text/x-python",
   "name": "python",
   "nbconvert_exporter": "python",
   "pygments_lexer": "ipython3",
   "version": "3.7.3"
  }
 },
 "nbformat": 4,
 "nbformat_minor": 2
}
